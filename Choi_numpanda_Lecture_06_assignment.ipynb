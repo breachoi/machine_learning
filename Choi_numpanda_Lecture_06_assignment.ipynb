{
 "cells": [
  {
   "cell_type": "markdown",
   "metadata": {},
   "source": [
    "# MPG Cars"
   ]
  },
  {
   "cell_type": "markdown",
   "metadata": {},
   "source": [
    "### Introduction:\n",
    "\n",
    "The following exercise utilizes data from [UC Irvine Machine Learning Repository](https://archive.ics.uci.edu/ml/datasets/Auto+MPG)\n",
    "\n",
    "### 1. Import the necessary libraries"
   ]
  },
  {
   "cell_type": "code",
   "execution_count": 97,
   "metadata": {
    "collapsed": false,
    "jupyter": {
     "outputs_hidden": false
    }
   },
   "outputs": [],
   "source": [
    "import numpy as np\n",
    "rng = np.random.default_rng(10) \n",
    "import pandas as pd"
   ]
  },
  {
   "cell_type": "markdown",
   "metadata": {},
   "source": [
    "### 2. Import the datasets cars1.csv and cars1.csv as cars1 and cars2, respectively."
   ]
  },
  {
   "cell_type": "code",
   "execution_count": 98,
   "metadata": {},
   "outputs": [],
   "source": [
    "#Import the datasets cars1 and car2\n",
    "cars1 = pd.read_csv('C:/Users/choih/OneDrive/Desktop/cars1.csv', skipinitialspace=True)\n",
    "cars2 = pd.read_csv('C:/Users/choih/OneDrive/Desktop/cars2.csv', skipinitialspace=True)\n",
    "\n",
    "\n"
   ]
  },
  {
   "cell_type": "markdown",
   "metadata": {},
   "source": [
    "   ### 3. Check two datasets using shape, head, and info."
   ]
  },
  {
   "cell_type": "code",
   "execution_count": 99,
   "metadata": {
    "collapsed": false,
    "jupyter": {
     "outputs_hidden": false
    }
   },
   "outputs": [
    {
     "name": "stdout",
     "output_type": "stream",
     "text": [
      "(198, 14)\n",
      "<bound method NDFrame.head of       mpg  cylinders  displacement horsepower  weight  acceleration  model  \\\n",
      "0    18.0          8           307        130    3504          12.0     70   \n",
      "1    15.0          8           350        165    3693          11.5     70   \n",
      "2    18.0          8           318        150    3436          11.0     70   \n",
      "3    16.0          8           304        150    3433          12.0     70   \n",
      "4    17.0          8           302        140    3449          10.5     70   \n",
      "..    ...        ...           ...        ...     ...           ...    ...   \n",
      "193  24.0          6           200         81    3012          17.6     76   \n",
      "194  22.5          6           232         90    3085          17.6     76   \n",
      "195  29.0          4            85         52    2035          22.2     76   \n",
      "196  24.5          4            98         60    2164          22.1     76   \n",
      "197  29.0          4            90         70    1937          14.2     76   \n",
      "\n",
      "     origin                        car  Unnamed: 9  Unnamed: 10  Unnamed: 11  \\\n",
      "0         1  chevrolet chevelle malibu         NaN          NaN          NaN   \n",
      "1         1          buick skylark 320         NaN          NaN          NaN   \n",
      "2         1         plymouth satellite         NaN          NaN          NaN   \n",
      "3         1              amc rebel sst         NaN          NaN          NaN   \n",
      "4         1                ford torino         NaN          NaN          NaN   \n",
      "..      ...                        ...         ...          ...          ...   \n",
      "193       1              ford maverick         NaN          NaN          NaN   \n",
      "194       1                 amc hornet         NaN          NaN          NaN   \n",
      "195       1         chevrolet chevette         NaN          NaN          NaN   \n",
      "196       1            chevrolet woody         NaN          NaN          NaN   \n",
      "197       2                  vw rabbit         NaN          NaN          NaN   \n",
      "\n",
      "     Unnamed: 12  Unnamed: 13  \n",
      "0            NaN          NaN  \n",
      "1            NaN          NaN  \n",
      "2            NaN          NaN  \n",
      "3            NaN          NaN  \n",
      "4            NaN          NaN  \n",
      "..           ...          ...  \n",
      "193          NaN          NaN  \n",
      "194          NaN          NaN  \n",
      "195          NaN          NaN  \n",
      "196          NaN          NaN  \n",
      "197          NaN          NaN  \n",
      "\n",
      "[198 rows x 14 columns]>\n",
      "<bound method DataFrame.info of       mpg  cylinders  displacement horsepower  weight  acceleration  model  \\\n",
      "0    18.0          8           307        130    3504          12.0     70   \n",
      "1    15.0          8           350        165    3693          11.5     70   \n",
      "2    18.0          8           318        150    3436          11.0     70   \n",
      "3    16.0          8           304        150    3433          12.0     70   \n",
      "4    17.0          8           302        140    3449          10.5     70   \n",
      "..    ...        ...           ...        ...     ...           ...    ...   \n",
      "193  24.0          6           200         81    3012          17.6     76   \n",
      "194  22.5          6           232         90    3085          17.6     76   \n",
      "195  29.0          4            85         52    2035          22.2     76   \n",
      "196  24.5          4            98         60    2164          22.1     76   \n",
      "197  29.0          4            90         70    1937          14.2     76   \n",
      "\n",
      "     origin                        car  Unnamed: 9  Unnamed: 10  Unnamed: 11  \\\n",
      "0         1  chevrolet chevelle malibu         NaN          NaN          NaN   \n",
      "1         1          buick skylark 320         NaN          NaN          NaN   \n",
      "2         1         plymouth satellite         NaN          NaN          NaN   \n",
      "3         1              amc rebel sst         NaN          NaN          NaN   \n",
      "4         1                ford torino         NaN          NaN          NaN   \n",
      "..      ...                        ...         ...          ...          ...   \n",
      "193       1              ford maverick         NaN          NaN          NaN   \n",
      "194       1                 amc hornet         NaN          NaN          NaN   \n",
      "195       1         chevrolet chevette         NaN          NaN          NaN   \n",
      "196       1            chevrolet woody         NaN          NaN          NaN   \n",
      "197       2                  vw rabbit         NaN          NaN          NaN   \n",
      "\n",
      "     Unnamed: 12  Unnamed: 13  \n",
      "0            NaN          NaN  \n",
      "1            NaN          NaN  \n",
      "2            NaN          NaN  \n",
      "3            NaN          NaN  \n",
      "4            NaN          NaN  \n",
      "..           ...          ...  \n",
      "193          NaN          NaN  \n",
      "194          NaN          NaN  \n",
      "195          NaN          NaN  \n",
      "196          NaN          NaN  \n",
      "197          NaN          NaN  \n",
      "\n",
      "[198 rows x 14 columns]>\n",
      "(200, 9)\n",
      "<bound method NDFrame.head of       mpg  cylinders  displacement horsepower  weight  acceleration  model  \\\n",
      "0    33.0          4            91         53    1795          17.4     76   \n",
      "1    20.0          6           225        100    3651          17.7     76   \n",
      "2    18.0          6           250         78    3574          21.0     76   \n",
      "3    18.5          6           250        110    3645          16.2     76   \n",
      "4    17.5          6           258         95    3193          17.8     76   \n",
      "..    ...        ...           ...        ...     ...           ...    ...   \n",
      "195  27.0          4           140         86    2790          15.6     82   \n",
      "196  44.0          4            97         52    2130          24.6     82   \n",
      "197  32.0          4           135         84    2295          11.6     82   \n",
      "198  28.0          4           120         79    2625          18.6     82   \n",
      "199  31.0          4           119         82    2720          19.4     82   \n",
      "\n",
      "     origin                 car  \n",
      "0         3         honda civic  \n",
      "1         1      dodge aspen se  \n",
      "2         1   ford granada ghia  \n",
      "3         1  pontiac ventura sj  \n",
      "4         1       amc pacer d/l  \n",
      "..      ...                 ...  \n",
      "195       1     ford mustang gl  \n",
      "196       2           vw pickup  \n",
      "197       1       dodge rampage  \n",
      "198       1         ford ranger  \n",
      "199       1          chevy s-10  \n",
      "\n",
      "[200 rows x 9 columns]>\n",
      "<bound method DataFrame.info of       mpg  cylinders  displacement horsepower  weight  acceleration  model  \\\n",
      "0    33.0          4            91         53    1795          17.4     76   \n",
      "1    20.0          6           225        100    3651          17.7     76   \n",
      "2    18.0          6           250         78    3574          21.0     76   \n",
      "3    18.5          6           250        110    3645          16.2     76   \n",
      "4    17.5          6           258         95    3193          17.8     76   \n",
      "..    ...        ...           ...        ...     ...           ...    ...   \n",
      "195  27.0          4           140         86    2790          15.6     82   \n",
      "196  44.0          4            97         52    2130          24.6     82   \n",
      "197  32.0          4           135         84    2295          11.6     82   \n",
      "198  28.0          4           120         79    2625          18.6     82   \n",
      "199  31.0          4           119         82    2720          19.4     82   \n",
      "\n",
      "     origin                 car  \n",
      "0         3         honda civic  \n",
      "1         1      dodge aspen se  \n",
      "2         1   ford granada ghia  \n",
      "3         1  pontiac ventura sj  \n",
      "4         1       amc pacer d/l  \n",
      "..      ...                 ...  \n",
      "195       1     ford mustang gl  \n",
      "196       2           vw pickup  \n",
      "197       1       dodge rampage  \n",
      "198       1         ford ranger  \n",
      "199       1          chevy s-10  \n",
      "\n",
      "[200 rows x 9 columns]>\n"
     ]
    }
   ],
   "source": [
    "#Check cars1 and cars2 dataset \n",
    "\n",
    "print(np.shape(cars1))\n",
    "print(cars1.head)\n",
    "print(cars1.info)\n",
    "print(np.shape(cars2))\n",
    "print(cars2.head)\n",
    "print(cars2.info)\n",
    "    \n",
    "\n",
    "\n"
   ]
  },
  {
   "cell_type": "markdown",
   "metadata": {},
   "source": [
    "### 4. cars1 dataset has empty columns. Remove them."
   ]
  },
  {
   "cell_type": "code",
   "execution_count": 100,
   "metadata": {
    "collapsed": false,
    "jupyter": {
     "outputs_hidden": false
    }
   },
   "outputs": [
    {
     "name": "stdout",
     "output_type": "stream",
     "text": [
      "      mpg  cylinders  displacement horsepower  weight  acceleration  model  \\\n",
      "0    18.0          8           307        130    3504          12.0     70   \n",
      "1    15.0          8           350        165    3693          11.5     70   \n",
      "2    18.0          8           318        150    3436          11.0     70   \n",
      "3    16.0          8           304        150    3433          12.0     70   \n",
      "4    17.0          8           302        140    3449          10.5     70   \n",
      "..    ...        ...           ...        ...     ...           ...    ...   \n",
      "193  24.0          6           200         81    3012          17.6     76   \n",
      "194  22.5          6           232         90    3085          17.6     76   \n",
      "195  29.0          4            85         52    2035          22.2     76   \n",
      "196  24.5          4            98         60    2164          22.1     76   \n",
      "197  29.0          4            90         70    1937          14.2     76   \n",
      "\n",
      "     origin                        car  \n",
      "0         1  chevrolet chevelle malibu  \n",
      "1         1          buick skylark 320  \n",
      "2         1         plymouth satellite  \n",
      "3         1              amc rebel sst  \n",
      "4         1                ford torino  \n",
      "..      ...                        ...  \n",
      "193       1              ford maverick  \n",
      "194       1                 amc hornet  \n",
      "195       1         chevrolet chevette  \n",
      "196       1            chevrolet woody  \n",
      "197       2                  vw rabbit  \n",
      "\n",
      "[198 rows x 9 columns]\n"
     ]
    }
   ],
   "source": [
    "#Remove the empty columns in cars1 dataset \n",
    "cars1.dropna(axis=1, how='any', inplace=True)\n",
    "print(cars1)"
   ]
  },
  {
   "cell_type": "markdown",
   "metadata": {},
   "source": [
    "### 5. Join cars1 and cars2 into a single DataFrame called cars."
   ]
  },
  {
   "cell_type": "code",
   "execution_count": 101,
   "metadata": {
    "collapsed": false,
    "jupyter": {
     "outputs_hidden": false
    }
   },
   "outputs": [
    {
     "name": "stdout",
     "output_type": "stream",
     "text": [
      "      mpg  cylinders  displacement horsepower  weight  acceleration  model  \\\n",
      "0     9.0          8           304        193    4732          18.5     70   \n",
      "1    10.0          8           307        200    4376          15.0     70   \n",
      "2    10.0          8           360        215    4615          14.0     70   \n",
      "3    11.0          8           318        210    4382          13.5     70   \n",
      "4    11.0          8           350        180    3664          11.0     73   \n",
      "..    ...        ...           ...        ...     ...           ...    ...   \n",
      "393  43.4          4            90         48    2335          23.7     80   \n",
      "394  44.0          4            97         52    2130          24.6     82   \n",
      "395  44.3          4            90         48    2085          21.7     80   \n",
      "396  44.6          4            91         67    1850          13.8     80   \n",
      "397  46.6          4            86         65    2110          17.9     80   \n",
      "\n",
      "     origin                   car  \n",
      "0         1              hi 1200d  \n",
      "1         1             chevy c20  \n",
      "2         1             ford f250  \n",
      "3         1            dodge d200  \n",
      "4         1      oldsmobile omega  \n",
      "..      ...                   ...  \n",
      "393       2    vw dasher (diesel)  \n",
      "394       2             vw pickup  \n",
      "395       2  vw rabbit c (diesel)  \n",
      "396       3   honda civic 1500 gl  \n",
      "397       3             mazda glc  \n",
      "\n",
      "[398 rows x 9 columns]\n"
     ]
    }
   ],
   "source": [
    "#Combine cars1 and cars2 dataframe \n",
    "cars = pd.merge(cars1, cars2, how='outer')\n",
    "\n",
    "print(cars)\n"
   ]
  },
  {
   "cell_type": "markdown",
   "metadata": {},
   "source": [
    "### 6. Randomly generate integers from 10,000 to 70,000 of size equal to the number of rows of the cars dataset. Add the generated integers as a column price to the cars dataset."
   ]
  },
  {
   "cell_type": "code",
   "execution_count": 102,
   "metadata": {
    "collapsed": false,
    "jupyter": {
     "outputs_hidden": false
    }
   },
   "outputs": [
    {
     "name": "stdout",
     "output_type": "stream",
     "text": [
      "      mpg  cylinders  displacement horsepower  weight  acceleration  model  \\\n",
      "0     9.0          8           304        193    4732          18.5     70   \n",
      "1    10.0          8           307        200    4376          15.0     70   \n",
      "2    10.0          8           360        215    4615          14.0     70   \n",
      "3    11.0          8           318        210    4382          13.5     70   \n",
      "4    11.0          8           350        180    3664          11.0     73   \n",
      "..    ...        ...           ...        ...     ...           ...    ...   \n",
      "393  43.4          4            90         48    2335          23.7     80   \n",
      "394  44.0          4            97         52    2130          24.6     82   \n",
      "395  44.3          4            90         48    2085          21.7     80   \n",
      "396  44.6          4            91         67    1850          13.8     80   \n",
      "397  46.6          4            86         65    2110          17.9     80   \n",
      "\n",
      "     origin                   car  price  \n",
      "0         1              hi 1200d  56278  \n",
      "1         1             chevy c20  13650  \n",
      "2         1             ford f250  60100  \n",
      "3         1            dodge d200  33313  \n",
      "4         1      oldsmobile omega  58685  \n",
      "..      ...                   ...    ...  \n",
      "393       2    vw dasher (diesel)  37963  \n",
      "394       2             vw pickup  29720  \n",
      "395       2  vw rabbit c (diesel)  47515  \n",
      "396       3   honda civic 1500 gl  47600  \n",
      "397       3             mazda glc  47554  \n",
      "\n",
      "[398 rows x 10 columns]\n"
     ]
    }
   ],
   "source": [
    "#Build the new column \"price\" and fill it out with a random number between 10000 ~ 70000\n",
    "cars['price'] = np.random.randint(10000, 70001, size=398)\n",
    "\n",
    "print(cars)"
   ]
  },
  {
   "cell_type": "markdown",
   "metadata": {},
   "source": [
    "### 7. Select the cars whose price is greater than 50,000. "
   ]
  },
  {
   "cell_type": "code",
   "execution_count": 103,
   "metadata": {
    "collapsed": false,
    "jupyter": {
     "outputs_hidden": false
    }
   },
   "outputs": [
    {
     "name": "stdout",
     "output_type": "stream",
     "text": [
      "0      56278\n",
      "2      60100\n",
      "4      58685\n",
      "6      50706\n",
      "8      59874\n",
      "       ...  \n",
      "366    63719\n",
      "369    53851\n",
      "381    50196\n",
      "386    50550\n",
      "389    66853\n",
      "Name: price, Length: 127, dtype: int32\n"
     ]
    }
   ],
   "source": [
    "#Build the condition that the car price is higher than 50000, and select the car that matches the condition.\n",
    "e_car = cars[(cars.price > 50000)] \n",
    "print(e_car['price'])"
   ]
  },
  {
   "cell_type": "markdown",
   "metadata": {},
   "source": [
    "### 8. The car column in cars dataset consists of the car manufacturer and the car name. Split the car column into two columns of manufacturer and name using [str.split function](https://pandas.pydata.org/docs/reference/api/pandas.Series.str.split.html)"
   ]
  },
  {
   "cell_type": "code",
   "execution_count": 104,
   "metadata": {},
   "outputs": [
    {
     "name": "stdout",
     "output_type": "stream",
     "text": [
      "      mpg  cylinders  displacement horsepower  weight  acceleration  model  \\\n",
      "0     9.0          8           304        193    4732          18.5     70   \n",
      "1    10.0          8           307        200    4376          15.0     70   \n",
      "2    10.0          8           360        215    4615          14.0     70   \n",
      "3    11.0          8           318        210    4382          13.5     70   \n",
      "4    11.0          8           350        180    3664          11.0     73   \n",
      "..    ...        ...           ...        ...     ...           ...    ...   \n",
      "393  43.4          4            90         48    2335          23.7     80   \n",
      "394  44.0          4            97         52    2130          24.6     82   \n",
      "395  44.3          4            90         48    2085          21.7     80   \n",
      "396  44.6          4            91         67    1850          13.8     80   \n",
      "397  46.6          4            86         65    2110          17.9     80   \n",
      "\n",
      "     origin                   car  price Manufacturer Car name  \n",
      "0         1              hi 1200d  56278           hi    1200d  \n",
      "1         1             chevy c20  13650        chevy      c20  \n",
      "2         1             ford f250  60100         ford     f250  \n",
      "3         1            dodge d200  33313        dodge     d200  \n",
      "4         1      oldsmobile omega  58685   oldsmobile    omega  \n",
      "..      ...                   ...    ...          ...      ...  \n",
      "393       2    vw dasher (diesel)  37963           vw   dasher  \n",
      "394       2             vw pickup  29720           vw   pickup  \n",
      "395       2  vw rabbit c (diesel)  47515           vw   rabbit  \n",
      "396       3   honda civic 1500 gl  47600        honda    civic  \n",
      "397       3             mazda glc  47554        mazda      glc  \n",
      "\n",
      "[398 rows x 12 columns]\n"
     ]
    }
   ],
   "source": [
    "#Split the car's column to the manufacturer and name, split the three parts, and select two parts which are 0,1 position \n",
    "cars[['Manufacturer', 'Car name']] = cars['car'].str.split(' ', n=2, expand=True)[[0, 1]]\n",
    "\n",
    "print(cars)\n"
   ]
  },
  {
   "cell_type": "markdown",
   "metadata": {},
   "source": [
    "### 9. Count how many manufacturers are in the manufacturer column. Find the errors and fix them."
   ]
  },
  {
   "cell_type": "code",
   "execution_count": 105,
   "metadata": {},
   "outputs": [
    {
     "name": "stdout",
     "output_type": "stream",
     "text": [
      "Manufacturer\n",
      "amc              28\n",
      "audi              7\n",
      "bmw               2\n",
      "buick            17\n",
      "cadillac          2\n",
      "capri             1\n",
      "chevroelt         1\n",
      "chevrolet        43\n",
      "chevy             3\n",
      "chrysler          6\n",
      "datsun           23\n",
      "dodge            28\n",
      "fiat              8\n",
      "ford             51\n",
      "hi                1\n",
      "honda            13\n",
      "maxda             2\n",
      "mazda            10\n",
      "mercedes          1\n",
      "mercedes-benz     2\n",
      "mercury          11\n",
      "nissan            1\n",
      "oldsmobile       10\n",
      "opel              4\n",
      "peugeot           8\n",
      "plymouth         31\n",
      "pontiac          16\n",
      "renault           5\n",
      "saab              4\n",
      "subaru            4\n",
      "toyota           25\n",
      "toyouta           1\n",
      "triumph           1\n",
      "vokswagen         1\n",
      "volkswagen       15\n",
      "volvo             6\n",
      "vw                6\n",
      "Name: count, dtype: int64\n"
     ]
    }
   ],
   "source": [
    "#Removes any extra spaces before and after the string in the column. Converts all characters in the string to lowercase, \n",
    "#ensuring consistency across all entries in the column.\n",
    "cars['Manufacturer'] = cars['Manufacturer'].str.strip().str.lower()\n",
    "\n",
    "# Count how many times each manufacturer is showing\n",
    "car_c = cars['Manufacturer'].value_counts()\n",
    "#For print out name order \n",
    "result= car_c.sort_index()\n",
    "\n",
    "print(result)"
   ]
  },
  {
   "cell_type": "markdown",
   "metadata": {},
   "source": [
    "### 10. Compute the average mpg of cars from each manufacturer."
   ]
  },
  {
   "cell_type": "code",
   "execution_count": 106,
   "metadata": {},
   "outputs": [
    {
     "data": {
      "text/plain": [
       "Manufacturer\n",
       "amc              18.246429\n",
       "audi             26.714286\n",
       "bmw              23.750000\n",
       "buick            19.182353\n",
       "cadillac         19.750000\n",
       "capri            25.000000\n",
       "chevroelt        16.000000\n",
       "chevrolet        20.472093\n",
       "chevy            18.000000\n",
       "chrysler         17.266667\n",
       "datsun           31.113043\n",
       "dodge            22.060714\n",
       "fiat             28.912500\n",
       "ford             19.694118\n",
       "hi                9.000000\n",
       "honda            33.761538\n",
       "maxda            26.050000\n",
       "mazda            30.860000\n",
       "mercedes         25.400000\n",
       "mercedes-benz    23.250000\n",
       "mercury          19.118182\n",
       "nissan           36.000000\n",
       "oldsmobile       21.100000\n",
       "opel             25.750000\n",
       "peugeot          23.687500\n",
       "plymouth         21.703226\n",
       "pontiac          20.012500\n",
       "renault          32.880000\n",
       "saab             23.900000\n",
       "subaru           30.525000\n",
       "toyota           28.372000\n",
       "toyouta          23.000000\n",
       "triumph          35.000000\n",
       "vokswagen        29.800000\n",
       "volkswagen       29.106667\n",
       "volvo            21.116667\n",
       "vw               39.016667\n",
       "Name: mpg, dtype: float64"
      ]
     },
     "execution_count": 106,
     "metadata": {},
     "output_type": "execute_result"
    }
   ],
   "source": [
    "#Compute the average mpg (each mpg mean)\n",
    "cars.groupby('Manufacturer').mpg.mean() "
   ]
  }
 ],
 "metadata": {
  "anaconda-cloud": {},
  "kernelspec": {
   "display_name": "Python 3 (ipykernel)",
   "language": "python",
   "name": "python3"
  },
  "language_info": {
   "codemirror_mode": {
    "name": "ipython",
    "version": 3
   },
   "file_extension": ".py",
   "mimetype": "text/x-python",
   "name": "python",
   "nbconvert_exporter": "python",
   "pygments_lexer": "ipython3",
   "version": "3.12.7"
  }
 },
 "nbformat": 4,
 "nbformat_minor": 4
}
