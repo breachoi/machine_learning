{
 "cells": [
  {
   "cell_type": "markdown",
   "id": "7914a7ab-9ba3-4e1b-97b0-5c522e9f3bf3",
   "metadata": {},
   "source": [
    "# Practice"
   ]
  },
  {
   "cell_type": "code",
   "execution_count": 390,
   "id": "77bfcf6e-a558-4714-8fbe-52910e46d6ba",
   "metadata": {},
   "outputs": [],
   "source": [
    "import numpy as np\n",
    "import pandas as pd\n",
    "rng = np.random.default_rng(23)"
   ]
  },
  {
   "cell_type": "markdown",
   "id": "4f9707b9-cb94-422a-a7f6-bf1e099e17d4",
   "metadata": {},
   "source": [
    "## numpy practice "
   ]
  },
  {
   "cell_type": "markdown",
   "id": "36f665fb-73ca-4179-b88a-d4dac6c93311",
   "metadata": {
    "tags": []
   },
   "source": [
    "Only use np library for this practice."
   ]
  },
  {
   "cell_type": "markdown",
   "id": "d2468a5f-0903-4b0b-903f-b069b1d1c681",
   "metadata": {},
   "source": [
    "1. Create two np arrays: $\\begin{bmatrix} 1 & 2 & 3 \\\\ 4 & 5 & 6 \\\\ 7 & 8 & 9 \\end{bmatrix}$ and $\\begin{bmatrix} 1 & 4 & 7 \\\\ 2 & 5 & 8 \\\\ 3 & 6 & 9 \\end{bmatrix}$. Do not create the arrays by listing all the elements."
   ]
  },
  {
   "cell_type": "code",
   "execution_count": 391,
   "id": "6bdf5684-1a3c-41c7-b399-c517abe5c502",
   "metadata": {},
   "outputs": [
    {
     "name": "stdout",
     "output_type": "stream",
     "text": [
      "[[1 2 3]\n",
      " [4 5 6]\n",
      " [7 8 9]]\n",
      "[[1 4 7]\n",
      " [2 5 8]\n",
      " [3 6 9]]\n"
     ]
    }
   ],
   "source": [
    "#Make an array between numbers 1 to 9 and reshape it to put that number in the matrix. \n",
    "arr = np.arange(1,10).reshape((3, 3)) \n",
    "#change the matrix number row to column \n",
    "arr2 = arr.T\n",
    "\n",
    "print(arr)\n",
    "print(arr2)"
   ]
  },
  {
   "cell_type": "markdown",
   "id": "a7c0fbcb-bea7-4f99-aa27-aa615ea42a1b",
   "metadata": {},
   "source": [
    "2. Compute row-wise means and standard deviations of the generated arrays."
   ]
  },
  {
   "cell_type": "code",
   "execution_count": 392,
   "id": "e13db5e4-48d0-4b5c-aae9-81d99c4f45ea",
   "metadata": {},
   "outputs": [
    {
     "name": "stdout",
     "output_type": "stream",
     "text": [
      "[2. 5. 8.]\n",
      "[4. 5. 6.]\n",
      "[0.81649658 0.81649658 0.81649658]\n",
      "[2.44948974 2.44948974 2.44948974]\n"
     ]
    }
   ],
   "source": [
    "arr = np.arange(1,10).reshape((3, 3)) \n",
    "arr2 = arr.T\n",
    "\n",
    "#function for finding the mean of row-wise numbers, \"1\" meaning is select the row \n",
    "def arr_mean():\n",
    "    mean_1 = np.mean(arr, axis = 1)\n",
    "    mean_2 = np.mean(arr2, axis = 1)\n",
    "    print(mean_1)\n",
    "    print(mean_2)\n",
    "    \n",
    "#function for finding the standard deviations of row-wise numbers, \"1\" meaning is select the row \n",
    "def arr_std():\n",
    "    std_1 = np.std(arr, axis =1)\n",
    "    std_2 = np.std(arr2, axis = 1)\n",
    "    print(std_1)\n",
    "    print(std_2)\n",
    "    \n",
    "arr_mean()\n",
    "arr_std()\n",
    "\n"
   ]
  },
  {
   "cell_type": "markdown",
   "id": "2ca34fa0-331d-46cc-a769-8077c9eb4140",
   "metadata": {},
   "source": [
    "3. Compute column-wise means and standard deviations of the generated arrays."
   ]
  },
  {
   "cell_type": "code",
   "execution_count": 393,
   "id": "6da65afe-4b4b-43c8-b161-2a10df4969a7",
   "metadata": {
    "scrolled": true
   },
   "outputs": [
    {
     "name": "stdout",
     "output_type": "stream",
     "text": [
      "[4. 5. 6.]\n",
      "[2. 5. 8.]\n",
      "[2.44948974 2.44948974 2.44948974]\n",
      "[0.81649658 0.81649658 0.81649658]\n"
     ]
    }
   ],
   "source": [
    "arr = np.arange(1,10).reshape((3, 3)) \n",
    "arr2 = arr.T\n",
    "\n",
    "#function for finding the mean of column-wise numbers, \"0\" meaning is select the column\n",
    "def arr_mean():\n",
    "    mean_1 = np.mean(arr, axis = 0)\n",
    "    mean_2 = np.mean(arr2, axis = 0)\n",
    "    print(mean_1)\n",
    "    print(mean_2)\n",
    "\n",
    "#function for finding the standard deviations of column-wise numbers, \"0\" meaning is select the column\n",
    "def arr_std():\n",
    "    std_1 = np.std(arr, axis = 0)\n",
    "    std_2 = np.std(arr2, axis = 0)\n",
    "    print(std_1)\n",
    "    print(std_2)\n",
    "\n",
    "arr_mean()\n",
    "arr_std()"
   ]
  },
  {
   "cell_type": "markdown",
   "id": "09ef1986-6528-41c2-9937-e46d8296fe70",
   "metadata": {},
   "source": [
    "4. Create 10 by 10 np array where each element is sampled from the normal distribution with mean 0 and standard deviation 5. Print the generated array."
   ]
  },
  {
   "cell_type": "code",
   "execution_count": 394,
   "id": "5f76ba7e-1fc9-4301-aa15-cae277737758",
   "metadata": {},
   "outputs": [
    {
     "name": "stdout",
     "output_type": "stream",
     "text": [
      "[[ -1.51837404  -3.89049642   0.92178664  -2.70387915 -14.78952981\n",
      "   -7.95840597   3.87298577  -5.74619842  -1.73008928  -2.79784409]\n",
      " [ -4.00298118  -0.605201     0.48082498   0.6355453   -1.63517161\n",
      "   -1.21491778   5.9270643   14.11913797  -2.1362682    3.93027902]\n",
      " [ -2.13821451   3.45452932  -9.63442252   6.38032406   7.59050897\n",
      "    4.75588478  -4.63419031  -0.35284689  -4.66376581  -3.91752443]\n",
      " [  3.63315267  -4.07523831  -4.83747946  -0.40783316   0.24471516\n",
      "    3.67124694   5.99109205   0.92149505   3.83159425   4.83545873]\n",
      " [  3.66857722   7.68083845   1.5948642   -2.30269367  -6.38375339\n",
      "   -4.05231708  -2.75448971   7.83801961  -3.21919062  -3.57469587]\n",
      " [ -0.36563657  -0.82908196   4.84667446   0.95176043  -2.80758333\n",
      "   -2.32131555  -1.9633852    3.25103426   4.19622327   4.82777024]\n",
      " [  3.4564478   -0.89248355   1.76683172  -3.1348311   -2.87063734\n",
      "   -6.20485851  -6.59278083  -1.70488354   4.03676537   6.50409726]\n",
      " [ -2.02054092  -1.47172899  -1.354357     2.80608809   0.92688713\n",
      "   -5.61894354   7.85811605   2.97124311  -4.61264822   0.48319682]\n",
      " [ -0.95901531   2.59150499  -4.26110793  -7.44269863   6.48835697\n",
      "   -3.19186411   2.86684135  -4.7127298    3.98202834  -3.46877805]\n",
      " [ -6.63704463   5.52828435   2.0285085   -4.72891403  -6.45924274\n",
      "    2.49440567  -8.19479596   1.4649078    1.80657372  -0.62035422]]\n"
     ]
    }
   ],
   "source": [
    "\n",
    "def t_arr(): \n",
    "    rng = np.random.default_rng(100) #make random number\n",
    "    t_normal = np.random.normal(0,5,100) #calculate random numbers' normal distribution with mean 0 and standard deviation 5.\n",
    "    result = t_normal.reshape((10,10)) #put the result of calculation in matrix \n",
    "    print(result)\n",
    "   \n",
    "    \n",
    "t_arr()"
   ]
  },
  {
   "cell_type": "markdown",
   "id": "7bb7f7b6-b2c3-445e-9980-0d19a47803bb",
   "metadata": {},
   "source": [
    "5. Write a function that uses inputs of (array, axis) and returns: \n",
    "\n",
    "\n",
    "* If the axis is 0, returns the column-wise standardized array (for each column, mean is 0 and standard deviation is 1) \n",
    "* If the axis is 1, returns the row-wise standardized array (for each row, mean is 0 and standard deviation is 1) \n",
    "* If the axis is not 0 nor 1, then print the error message \n",
    "\n",
    "Test the function with the arrays created in Q1. If the outputs are correct, compute the row-wise and column-wise means and standard devations of the array generated in Q4."
   ]
  },
  {
   "cell_type": "code",
   "execution_count": 395,
   "id": "39dc90d0-f2bd-41a5-addc-f614701ce194",
   "metadata": {},
   "outputs": [
    {
     "name": "stdout",
     "output_type": "stream",
     "text": [
      "[[-8.62793999e-01 -1.58529515e+00 -9.37228308e-02 -1.55416190e+00\n",
      "  -8.69774188e-01 -1.39455210e+00 -1.96880718e-01  1.61128415e-01\n",
      "  -1.46013661e+00  8.69667280e-01]\n",
      " [-5.79695751e-01 -1.18133194e+00  1.08956984e+00 -9.47762512e-02\n",
      "  -1.17245659e-01  7.16443819e-01  6.49286685e-02 -1.02850055e+00\n",
      "   8.69600648e-01 -7.90686811e-02]\n",
      " [-1.44473147e+00  8.89396209e-02 -6.99202018e-02  5.45415902e-02\n",
      "   1.19982825e-01  4.95408465e-01  1.64266123e+00  1.02135604e+00\n",
      "   9.58065948e-01 -8.84840441e-01]\n",
      " [ 1.51301456e+00  9.69161934e-01 -1.21092809e+00  2.20788077e+00\n",
      "   1.70067746e+00 -3.79541226e-02  1.15724797e+00 -1.88226612e+00\n",
      "   1.58515600e+00 -2.16106419e+00]\n",
      " [ 1.11251391e+00  1.58029606e+00  1.50752633e+00 -9.34504376e-01\n",
      "  -1.06059310e+00  1.67394710e+00  4.88908821e-01 -8.40686440e-01\n",
      "  -3.15796284e-01  8.89582915e-02]\n",
      " [ 8.00886535e-01  3.10989719e-01 -1.81236542e+00  5.81346038e-01\n",
      "  -7.34160437e-01 -2.03118129e-03 -1.99604549e+00  1.45950527e+00\n",
      "  -1.88034879e+00  1.40835904e+00]\n",
      " [-3.97475662e-01 -5.31262576e-01 -5.38851880e-02 -2.81900125e-01\n",
      "  -1.11473365e+00  7.39306986e-01 -2.31292182e-02 -3.39470650e-01\n",
      "   8.12976041e-02  6.12706562e-01]\n",
      " [-1.10949510e+00  3.24498205e-01  6.14033739e-01 -2.15466101e-01\n",
      "   1.34633242e+00  4.12281502e-01 -8.39403364e-01 -2.17814753e-02\n",
      "   2.75592542e-02 -9.86913462e-02]\n",
      " [-1.51213249e-01  1.05176926e+00 -8.20358266e-01 -6.97763142e-01\n",
      "  -4.53124149e-01 -8.60407401e-01 -8.37116776e-01  1.12006817e+00\n",
      "   1.88378287e-01  9.52042863e-01]\n",
      " [ 1.11899023e+00 -1.02776514e+00  8.50050091e-01  9.34803498e-01\n",
      "   1.18263848e+00 -1.74244307e+00  5.38828875e-01  3.50647331e-01\n",
      "  -5.37760587e-02 -7.08069382e-01]]\n",
      "[[-2.67295334e-01 -1.19849426e+00 -3.90451540e-01 -1.19511398e+00\n",
      "  -1.26745888e+00 -2.55034927e-01 -4.09503252e-01 -2.78202110e-02\n",
      "  -2.85634992e+00  1.81195585e+00]\n",
      " [ 3.42017696e-03 -8.74452894e-01  9.57191301e-01 -2.18474389e-01\n",
      "  -6.33056956e-01  5.64531757e-01  1.77472838e-01 -1.67423414e+00\n",
      "   1.42296665e+00  2.20388917e-01]\n",
      " [-8.23778816e-01  1.44502616e-01 -3.63342910e-01 -1.18548975e-01\n",
      "  -4.33066920e-01  4.78717658e-01  3.71474589e+00  1.16271128e+00\n",
      "   1.58546181e+00 -1.13134617e+00]\n",
      " [ 2.00459519e+00  8.50577915e-01 -1.66282794e+00  1.32249321e+00\n",
      "   8.99501461e-01  2.71646577e-01  2.62645040e+00 -2.85582231e+00\n",
      "   2.73731566e+00 -3.27229538e+00]\n",
      " [ 1.62161247e+00  1.34080261e+00  1.43319870e+00 -7.80431214e-01\n",
      "  -1.42832439e+00  9.36269942e-01  1.12803544e+00 -1.41430455e+00\n",
      "  -7.54398510e-01  5.02265207e-01]\n",
      " [ 1.32361570e+00  3.22621356e-01 -2.34780025e+00  2.33995315e-01\n",
      "  -1.15313282e+00  2.85593191e-01 -4.44322685e+00  1.76909782e+00\n",
      "  -3.62820561e+00  2.71564668e+00]\n",
      " [ 1.77669947e-01 -3.52996079e-01 -3.45080758e-01 -3.43700084e-01\n",
      "  -1.47396634e+00  5.73408084e-01 -1.99527575e-02 -7.20635615e-01\n",
      "  -2.50070519e-02  1.38088735e+00]\n",
      " [-5.03205714e-01  3.33457264e-01  4.15606926e-01 -2.99241583e-01\n",
      "   6.00778992e-01  4.46444697e-01 -1.85003766e+00 -2.80962493e-01\n",
      "  -1.23714926e-01  1.87470607e-01]\n",
      " [ 4.13160825e-01  9.16841852e-01 -1.21801100e+00 -6.22000946e-01\n",
      "  -9.16211617e-01 -4.76602018e-02 -1.84491113e+00  1.29932617e+00\n",
      "   1.71681283e-01  1.95014630e+00]\n",
      " [ 1.62780551e+00 -7.51268412e-01  6.84404118e-01  4.70533579e-01\n",
      "   4.62780570e-01 -3.90099069e-01  1.23995609e+00  2.34468781e-01\n",
      "  -2.73113555e-01 -8.34801099e-01]]\n"
     ]
    }
   ],
   "source": [
    "def t_arr(): \n",
    "    rng = np.random.default_rng(100)\n",
    "    t_normal = np.random.normal(0,5,100)\n",
    "    result = t_normal.reshape((10,10))\n",
    "    return result \n",
    "\n",
    "arr_result = t_arr() #call the function in arr_result to easy to use in next function\n",
    "\n",
    "def logic_in(arrx,ax):\n",
    "    \n",
    "    #build the logic to distinguish the axis column \n",
    "    if ax == 0:\n",
    "        #calculate mean and standard deviations for building a standardized formula \n",
    "        arr_m = np.mean(arr_result, axis = 0) \n",
    "        std_dev = np.std(arr_result, axis=0)\n",
    "        s_array = (arr_result - arr_m) / std_dev\n",
    "        return s_array\n",
    "    #build the logic to distinguish the axis row\n",
    "    elif ax == 1:\n",
    "        #calculate mean and standard deviations for building a standardized formula \n",
    "        arr_m2 = np.mean(arr_result, axis = 1) \n",
    "        std_dev2 = np.std(arr_result, axis=1)\n",
    "        s_array2 = (arr_result - arr_m2) / std_dev2\n",
    "        return s_array2\n",
    "    #build the logic for error \n",
    "    else:\n",
    "        print(\"value is error\")\n",
    "    \n",
    "    \n",
    "print(logic_in(arr_result,0))\n",
    "print(logic_in(arr_result,1))\n",
    "\n",
    "\n"
   ]
  },
  {
   "cell_type": "markdown",
   "id": "f79aaab7-1fa6-4cd6-abbf-a9f677e86df0",
   "metadata": {},
   "source": [
    "## pandas practice "
   ]
  },
  {
   "cell_type": "markdown",
   "id": "ba66daa8-ed94-4240-a188-1edeef1af32e",
   "metadata": {
    "tags": []
   },
   "source": [
    "We will use the wine quality data (https://archive.ics.uci.edu/ml/datasets/Wine+Quality). Only use pd library for this practice."
   ]
  },
  {
   "cell_type": "markdown",
   "id": "7dd9c45f-d0ba-4585-a9d5-6e69577f3746",
   "metadata": {},
   "source": [
    "6. Load winequality-red.csv as data frame using pd and save it as winequality_red"
   ]
  },
  {
   "cell_type": "code",
   "execution_count": 396,
   "id": "df12ae8d-a116-404e-8e86-8cb754983be5",
   "metadata": {},
   "outputs": [
    {
     "name": "stdout",
     "output_type": "stream",
     "text": [
      "      fixed acidity  volatile acidity  citric acid  residual sugar  chlorides  \\\n",
      "0               7.4             0.700         0.00             1.9      0.076   \n",
      "1               7.8             0.880         0.00             2.6      0.098   \n",
      "2               7.8             0.760         0.04             2.3      0.092   \n",
      "3              11.2             0.280         0.56             1.9      0.075   \n",
      "4               7.4             0.700         0.00             1.9      0.076   \n",
      "...             ...               ...          ...             ...        ...   \n",
      "1594            6.2             0.600         0.08             2.0      0.090   \n",
      "1595            5.9             0.550         0.10             2.2      0.062   \n",
      "1596            6.3             0.510         0.13             2.3      0.076   \n",
      "1597            5.9             0.645         0.12             2.0      0.075   \n",
      "1598            6.0             0.310         0.47             3.6      0.067   \n",
      "\n",
      "      free sulfur dioxide  total sulfur dioxide  density    pH  sulphates  \\\n",
      "0                    11.0                  34.0  0.99780  3.51       0.56   \n",
      "1                    25.0                  67.0  0.99680  3.20       0.68   \n",
      "2                    15.0                  54.0  0.99700  3.26       0.65   \n",
      "3                    17.0                  60.0  0.99800  3.16       0.58   \n",
      "4                    11.0                  34.0  0.99780  3.51       0.56   \n",
      "...                   ...                   ...      ...   ...        ...   \n",
      "1594                 32.0                  44.0  0.99490  3.45       0.58   \n",
      "1595                 39.0                  51.0  0.99512  3.52       0.76   \n",
      "1596                 29.0                  40.0  0.99574  3.42       0.75   \n",
      "1597                 32.0                  44.0  0.99547  3.57       0.71   \n",
      "1598                 18.0                  42.0  0.99549  3.39       0.66   \n",
      "\n",
      "      alcohol  quality  \n",
      "0         9.4        5  \n",
      "1         9.8        5  \n",
      "2         9.8        5  \n",
      "3         9.8        6  \n",
      "4         9.4        5  \n",
      "...       ...      ...  \n",
      "1594     10.5        5  \n",
      "1595     11.2        6  \n",
      "1596     11.0        6  \n",
      "1597     10.2        5  \n",
      "1598     11.0        6  \n",
      "\n",
      "[1599 rows x 12 columns]\n"
     ]
    }
   ],
   "source": [
    "# Read CSV file using Panda \n",
    "winequality_red = pd.read_csv('C:/Users/choih/OneDrive/Desktop/r_wine.csv', sep=';')\n",
    "print(winequality_red)"
   ]
  },
  {
   "cell_type": "markdown",
   "id": "e6b24299-b918-49f9-bdce-8bfd9ee6d318",
   "metadata": {},
   "source": [
    "7. Use head and info functions to check the information of winequality_red. Briefly summarize the information of the imported dataset."
   ]
  },
  {
   "cell_type": "code",
   "execution_count": 397,
   "id": "a6dc0fbd-5954-4140-b13e-d1baa84b0721",
   "metadata": {},
   "outputs": [
    {
     "name": "stdout",
     "output_type": "stream",
     "text": [
      "<class 'pandas.core.frame.DataFrame'>\n",
      "RangeIndex: 1599 entries, 0 to 1598\n",
      "Data columns (total 12 columns):\n",
      " #   Column                Non-Null Count  Dtype  \n",
      "---  ------                --------------  -----  \n",
      " 0   fixed acidity         1599 non-null   float64\n",
      " 1   volatile acidity      1599 non-null   float64\n",
      " 2   citric acid           1599 non-null   float64\n",
      " 3   residual sugar        1599 non-null   float64\n",
      " 4   chlorides             1599 non-null   float64\n",
      " 5   free sulfur dioxide   1599 non-null   float64\n",
      " 6   total sulfur dioxide  1599 non-null   float64\n",
      " 7   density               1599 non-null   float64\n",
      " 8   pH                    1599 non-null   float64\n",
      " 9   sulphates             1599 non-null   float64\n",
      " 10  alcohol               1599 non-null   float64\n",
      " 11  quality               1599 non-null   int64  \n",
      "dtypes: float64(11), int64(1)\n",
      "memory usage: 150.0 KB\n"
     ]
    }
   ],
   "source": [
    "#check and summarize the information from the dataset.\n",
    "winequality_red.head()\n",
    "winequality_red.info()"
   ]
  },
  {
   "cell_type": "markdown",
   "id": "55db10db-83e2-4aca-8e6b-4f6d5298ef3b",
   "metadata": {},
   "source": [
    "8. We want to find the high-quality low-alcohol wines. Show information of wines whose alcohol is less than 10 and quality is greater than or equal to 7. How many wines are there that meet?"
   ]
  },
  {
   "cell_type": "code",
   "execution_count": 398,
   "id": "4afa192e-453f-46d1-b211-358704ee8a0f",
   "metadata": {},
   "outputs": [
    {
     "name": "stdout",
     "output_type": "stream",
     "text": [
      "<class 'pandas.core.frame.DataFrame'>\n",
      "Index: 12 entries, 8 to 1089\n",
      "Data columns (total 12 columns):\n",
      " #   Column                Non-Null Count  Dtype  \n",
      "---  ------                --------------  -----  \n",
      " 0   fixed acidity         12 non-null     float64\n",
      " 1   volatile acidity      12 non-null     float64\n",
      " 2   citric acid           12 non-null     float64\n",
      " 3   residual sugar        12 non-null     float64\n",
      " 4   chlorides             12 non-null     float64\n",
      " 5   free sulfur dioxide   12 non-null     float64\n",
      " 6   total sulfur dioxide  12 non-null     float64\n",
      " 7   density               12 non-null     float64\n",
      " 8   pH                    12 non-null     float64\n",
      " 9   sulphates             12 non-null     float64\n",
      " 10  alcohol               12 non-null     float64\n",
      " 11  quality               12 non-null     int64  \n",
      "dtypes: float64(11), int64(1)\n",
      "memory usage: 1.2 KB\n",
      "Total selected wines: 12\n"
     ]
    }
   ],
   "source": [
    "#filter out with the given conditions \n",
    "goodwine = winequality_red[(winequality_red.alcohol < 10) & (winequality_red.quality >= 7)]\n",
    "\n",
    "#print out the selected wines\n",
    "goodwine.info()\n",
    "#print out a number of selected wines \n",
    "print(\"Total selected wines: \" + str(len(goodwine.columns)))"
   ]
  },
  {
   "cell_type": "markdown",
   "id": "a19072a4",
   "metadata": {},
   "source": [
    "## string practice "
   ]
  },
  {
   "cell_type": "markdown",
   "id": "b0a781ee",
   "metadata": {},
   "source": [
    "9. We have the following product descriptions."
   ]
  },
  {
   "cell_type": "markdown",
   "id": "4904459e",
   "metadata": {},
   "source": [
    "Write the function(s) that can retrieve the three numbers of size (height, width, and depth) in all product descriptions. In some product descriptions, the orders of height, width, and depth could be different. However, we know that the product dimension would always be in the following order: height>width>depth. Test the function(s) using the given product descriptions."
   ]
  },
  {
   "cell_type": "code",
   "execution_count": 399,
   "id": "f4fed038",
   "metadata": {},
   "outputs": [
    {
     "name": "stdout",
     "output_type": "stream",
     "text": [
      "(18.0, 12.0, 5.0)\n",
      "('18', '16', '8')\n",
      "(15.8, 12.9, 8.4)\n",
      "(16.0, 18.4, 4.5)\n"
     ]
    }
   ],
   "source": [
    "#for using regular expressions \n",
    "import re\n",
    "\n",
    "rucksack1 = \"Rucksack. Leather and polyester. Dimensions: 18'' tall x 12'' wide x 5'' deep. Brown or black.\"\n",
    "rucksack2 = \"Classic Leather Backpack for Man. Dim: height 18'' & width 16'' & depth 8''.\"\n",
    "rucksack3 = \"Multi-purpose clear backpack. Size: 15.8 by 12.9 by 8.4 (inch).\"\n",
    "rucksack4 = \"16(W)x18.4(H)x4.5(D)\"\n",
    "\n",
    "#To find out only numbers from sentence \n",
    "def f_num(rucksack):\n",
    "    numbers = re.findall(r'\\d+\\.\\d+|\\d+', rucksack)\n",
    "    digits = []\n",
    "    for n in numbers:\n",
    "        try:\n",
    "            n = float(n)\n",
    "            digits.append(n) \n",
    "        except ValueError:\n",
    "            continue\n",
    "    \n",
    "    return digits\n",
    "\n",
    "#Make a function that prints out the number by conditions\n",
    "def result(rucksack):\n",
    "    result_s = f_num(rucksack) #bring a previous functions   \n",
    "    #To find out patterns by condition\n",
    "    height_pattern = r'(height|tall)[\\s:]*([\\d\\.]+)\\'\\'|(\\d+\\.\\d+)'  \n",
    "    width_pattern = r'(width|wide)[\\s:]*([\\d\\.]+)\\'\\'|(\\d+\\.\\d+)'   \n",
    "    depth_pattern = r'(depth|deep)[\\s:]*([\\d\\.]+)\\'\\'|(\\d+\\.\\d+)'   \n",
    "    \n",
    "    #to search specific pattern by condition \n",
    "    height_match = re.search(height_pattern, rucksack, re.IGNORECASE)\n",
    "    width_match = re.search(width_pattern, rucksack, re.IGNORECASE)\n",
    "    depth_match = re.search(depth_pattern, rucksack, re.IGNORECASE)\n",
    "\n",
    "    #If it matchs object for the string \"height 18\" then \"height_match.group(2)\" will extract the number else it will be None\n",
    "    # width and depth also same logic \n",
    "    height = height_match.group(2) if height_match else None\n",
    "    width = width_match.group(2) if width_match else None\n",
    "    depth = depth_match.group(2) if depth_match else None\n",
    "    \n",
    "    # This checks whether none of the height, width, or depth values have been assigned a valid value.\n",
    "    if not height and not width and not depth:\n",
    "        if len(result_s) >= 3:\n",
    "            height, width, depth = result_s[:3]\n",
    "    \n",
    "    return height, width, depth\n",
    "    \n",
    "print(result(rucksack1))\n",
    "print(result(rucksack2))\n",
    "print(result(rucksack3))\n",
    "print(result(rucksack4))\n"
   ]
  },
  {
   "cell_type": "code",
   "execution_count": null,
   "id": "735978b7-81bc-498f-86eb-f1eea30508f0",
   "metadata": {},
   "outputs": [],
   "source": []
  }
 ],
 "metadata": {
  "kernelspec": {
   "display_name": "Python 3 (ipykernel)",
   "language": "python",
   "name": "python3"
  },
  "language_info": {
   "codemirror_mode": {
    "name": "ipython",
    "version": 3
   },
   "file_extension": ".py",
   "mimetype": "text/x-python",
   "name": "python",
   "nbconvert_exporter": "python",
   "pygments_lexer": "ipython3",
   "version": "3.12.7"
  }
 },
 "nbformat": 4,
 "nbformat_minor": 5
}
