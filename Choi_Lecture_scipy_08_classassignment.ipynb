{
 "cells": [
  {
   "cell_type": "markdown",
   "metadata": {},
   "source": [
    "# Hypothesis Test"
   ]
  },
  {
   "cell_type": "markdown",
   "metadata": {},
   "source": [
    "### 0. Import libraries and modules"
   ]
  },
  {
   "cell_type": "code",
   "execution_count": 238,
   "metadata": {
    "collapsed": false,
    "jupyter": {
     "outputs_hidden": false
    }
   },
   "outputs": [],
   "source": [
    "#for distribution and test\n",
    "from scipy import stats\n",
    "from statsmodels.stats.multitest import multipletests\n",
    "#for array and data frame \n",
    "import numpy as np \n",
    "import pandas as pd\n",
    "#for plot\n",
    "import seaborn as sns"
   ]
  },
  {
   "cell_type": "markdown",
   "metadata": {},
   "source": [
    "### 1. Load winequality-red.csv and winequality-white.csv files using pandas"
   ]
  },
  {
   "cell_type": "code",
   "execution_count": 239,
   "metadata": {
    "tags": []
   },
   "outputs": [],
   "source": [
    "#Loading the data\n",
    "red_w = pd.read_csv('C:/Users/choih/OneDrive/Desktop/winequality-red2.csv' , sep=';')\n",
    "white_w = pd.read_csv('C:/Users/choih/OneDrive/Desktop/winequality-white2.csv' , sep=';')\n"
   ]
  },
  {
   "cell_type": "markdown",
   "metadata": {},
   "source": [
    "### 2. Conduct hypothesis test to test whether the average alcohol of red wines is higher than white wines or not. "
   ]
  },
  {
   "cell_type": "code",
   "execution_count": 240,
   "metadata": {
    "collapsed": false,
    "jupyter": {
     "outputs_hidden": false
    }
   },
   "outputs": [
    {
     "data": {
      "text/plain": [
       "0.9960660630033288"
      ]
     },
     "execution_count": 240,
     "metadata": {},
     "output_type": "execute_result"
    }
   ],
   "source": [
    "#ttest for compare 2 different mean\n",
    "tstat,pval = stats.ttest_ind(red_w.alcohol, white_w.alcohol, alternative = \"greater\")\n",
    "pval"
   ]
  },
  {
   "cell_type": "markdown",
   "metadata": {},
   "source": [
    "### 3. Conduct hypothesis test to test whether the alcohol of red wines and the white wines are from the same distribution or not. "
   ]
  },
  {
   "cell_type": "code",
   "execution_count": 241,
   "metadata": {},
   "outputs": [
    {
     "data": {
      "text/plain": [
       "1.132283112957225e-09"
      ]
     },
     "execution_count": 241,
     "metadata": {},
     "output_type": "execute_result"
    }
   ],
   "source": [
    "#trying to find if they used different distribution \n",
    "ksstat,pval=stats.ks_2samp(red_w.alcohol, white_w.alcohol)\n",
    "pval"
   ]
  },
  {
   "cell_type": "markdown",
   "metadata": {},
   "source": [
    "### 4. Conduct hypothesis test to test whether the alcohol of red wines follows the normal distribution or not."
   ]
  },
  {
   "cell_type": "code",
   "execution_count": 242,
   "metadata": {},
   "outputs": [
    {
     "data": {
      "text/plain": [
       "3.3163288473185496e-34"
      ]
     },
     "execution_count": 242,
     "metadata": {},
     "output_type": "execute_result"
    }
   ],
   "source": [
    "#trying to find if it used normal distribution\n",
    "s2k2,pval=stats.normaltest(red_w.alcohol)\n",
    "pval"
   ]
  },
  {
   "cell_type": "markdown",
   "metadata": {},
   "source": [
    "### 5. Conduct two-sided hypothesis tests between red wines and white wines that compare means of each variable. There are 12 variables and the final output will be 12 p-values."
   ]
  },
  {
   "cell_type": "code",
   "execution_count": 243,
   "metadata": {
    "collapsed": false,
    "jupyter": {
     "outputs_hidden": false
    }
   },
   "outputs": [
    {
     "name": "stdout",
     "output_type": "stream",
     "text": [
      "[0.00000000e+000 0.00000000e+000 2.00373570e-052 2.95935415e-185\n",
      " 0.00000000e+000 0.00000000e+000 0.00000000e+000 7.31960464e-236\n",
      " 5.92330797e-164 0.00000000e+000 7.86787399e-003 4.88806904e-022]\n"
     ]
    }
   ],
   "source": [
    "# Two-sided hypothesis test for each variable means.\n",
    "p_12 = stats.ttest_ind(red_w, white_w, axis=0, alternative='two-sided')\n",
    "\n",
    "twelve_p = p_12.pvalue\n",
    "print(twelve_p)\n",
    "\n",
    "\n"
   ]
  },
  {
   "cell_type": "markdown",
   "metadata": {},
   "source": [
    "### 6. Count how many p-values are less than alpha=0.05"
   ]
  },
  {
   "cell_type": "code",
   "execution_count": 244,
   "metadata": {},
   "outputs": [
    {
     "data": {
      "text/plain": [
       "12"
      ]
     },
     "execution_count": 244,
     "metadata": {},
     "output_type": "execute_result"
    }
   ],
   "source": [
    "#count p-value that less than alpha=0.05\n",
    "len(twelve_p[np.where(twelve_p<0.05)])"
   ]
  },
  {
   "cell_type": "markdown",
   "metadata": {},
   "source": [
    "### 7. Compute bonferroni-corrected significance at alpha=0.05 and count how many p-values are smaller than that."
   ]
  },
  {
   "cell_type": "code",
   "execution_count": 245,
   "metadata": {
    "collapsed": false,
    "jupyter": {
     "outputs_hidden": false
    }
   },
   "outputs": [
    {
     "name": "stdout",
     "output_type": "stream",
     "text": [
      "11\n"
     ]
    }
   ],
   "source": [
    "#Bonferroni-corrected\n",
    "bp_12 = 0.05/12\n",
    "\n",
    "#count p-value that is smaller than the Bonferroni-corrected result\n",
    "bp_c = len(twelve_p[np.where(twelve_p<bp_12)])\n",
    "print(bp_c)\n"
   ]
  },
  {
   "cell_type": "markdown",
   "metadata": {},
   "source": [
    "### 8. Compute bonferroni-corrected p-values and count how many corrected p-values are smaller than alpha=0.05. This should yield the same result of Q7."
   ]
  },
  {
   "cell_type": "code",
   "execution_count": 246,
   "metadata": {},
   "outputs": [
    {
     "data": {
      "text/plain": [
       "11"
      ]
     },
     "execution_count": 246,
     "metadata": {},
     "output_type": "execute_result"
    }
   ],
   "source": [
    "#Different way Bonferroni\n",
    "bpd_12 = multipletests(pvals=twelve_p, alpha=0.05, method=\"bonferroni\")\n",
    "\n",
    "#Count p-value that is smaller than the Bonferroni-corrected result\n",
    "bpd_12_c = len(bpd_12[1][np.where(bpd_12[1]<0.05)]) \n",
    "bpd_12_c"
   ]
  },
  {
   "cell_type": "markdown",
   "metadata": {},
   "source": [
    "### 9. Compute Benjamini and Hochberg FDR at alpha=0.05 and count how many p-values are smaller than 0.05."
   ]
  },
  {
   "cell_type": "code",
   "execution_count": 250,
   "metadata": {
    "collapsed": false,
    "jupyter": {
     "outputs_hidden": false
    }
   },
   "outputs": [
    {
     "data": {
      "text/plain": [
       "12"
      ]
     },
     "execution_count": 250,
     "metadata": {},
     "output_type": "execute_result"
    }
   ],
   "source": [
    "#Benjamini and Hochberg FDR\n",
    "hp_12=multipletests(pvals=twelve_p, alpha=0.05, method=\"fdr_bh\")\n",
    "\n",
    "\n",
    "#Count p-value that is smaller than the Benjamini and Hochberg FDR result\n",
    "hp_12_c = len(hp_12[1][np.where(hp_12[1]<0.05)])  \n",
    "hp_12_c\n"
   ]
  },
  {
   "cell_type": "markdown",
   "metadata": {},
   "source": [
    "### 10. Create a plot that compares the p-values obtained in Q5, Q8, and Q9 and briefly explain the results."
   ]
  },
  {
   "cell_type": "code",
   "execution_count": 248,
   "metadata": {},
   "outputs": [
    {
     "data": {
      "image/png": "[encoded data removed]",
      "text/plain": [
       "<Figure size 640x480 with 1 Axes>"
      ]
     },
     "metadata": {},
     "output_type": "display_data"
    }
   ],
   "source": [
    "#Pull out the result and put it in the array\n",
    "twelve_p = p_12.pvalue\n",
    "c_pvals1 = bpd_12[1] \n",
    "c_pvals2 = hp_12[1] \n",
    "\n",
    "#Make scatter plot with twelve_p array\n",
    "plt.scatter(range(len(twelve_p)), twelve_p, label='Twelve p-value', marker='1', s=200)\n",
    "#Make scatter plot with c_pvals1 array\n",
    "plt.scatter(range(len(c_pvals1)), c_pvals1, label='Bonferroni-corrected', marker='2', s=200)\n",
    "#Make scatter plot with c_pvals2 array\n",
    "plt.scatter(range(len(c_pvals2)), c_pvals2, label='Benjamini and Hochberg FDR', marker='3', s=200)\n",
    "#Display the legend on the plot\n",
    "plt.legend()\n",
    "plt.show()\n",
    "\n",
    "\n",
    "\n",
    "\n",
    "\n",
    "# Most of the p-values are very close to zero, suggesting strong significance. The Bonferroni has a large corrected p-value (above 0.08)."
   ]
  }
 ],
 "metadata": {
  "kernelspec": {
   "display_name": "Python 3 (ipykernel)",
   "language": "python",
   "name": "python3"
  },
  "language_info": {
   "codemirror_mode": {
    "name": "ipython",
    "version": 3
   },
   "file_extension": ".py",
   "mimetype": "text/x-python",
   "name": "python",
   "nbconvert_exporter": "python",
   "pygments_lexer": "ipython3",
   "version": "3.12.7"
  }
 },
 "nbformat": 4,
 "nbformat_minor": 4
}
