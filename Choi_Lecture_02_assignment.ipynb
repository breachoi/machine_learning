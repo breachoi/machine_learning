{
 "cells": [
  {
   "cell_type": "markdown",
   "id": "d8a915fb-0106-47b2-b340-818f2f542bd2",
   "metadata": {},
   "source": [
    "# Assignment"
   ]
  },
  {
   "cell_type": "code",
   "execution_count": 76,
   "id": "abc41936-0262-4970-a476-a9429dff505a",
   "metadata": {
    "tags": []
   },
   "outputs": [],
   "source": [
    "rucksack1 = \"Rucksack. Lea ther and polyester.Dimensions: 18'' tall x 12'' wide x 5'' deep. Brown or black.\"\n",
    "rucksack2 = \"Classic Leather Backpack for Man. Dim: height 17'' & width 18'' & depth 8''.\""
   ]
  },
  {
   "cell_type": "markdown",
   "id": "e30e3c94-932b-49a9-ac46-c8f508455311",
   "metadata": {},
   "source": [
    "From the rucksack1 and ruckscak2, find the three values, 1) height, 2) width, and 3) depth, respectively, using the string functions listed in the [tutorial site](https://www.w3schools.com/python/python_strings_methods.asp). Save them as the list 'rucksack_height', 'rucksack_width', 'rucksack_depth', that include the heights, widths, and depths of two products. Note that there are multiple ways to achieve this. Try to write the most efficient and generalizable code."
   ]
  },
  {
   "cell_type": "code",
   "execution_count": 130,
   "id": "83d168a9-a139-4fc0-958b-35c2de044c66",
   "metadata": {},
   "outputs": [
    {
     "name": "stdout",
     "output_type": "stream",
     "text": [
      "['18', '17']\n",
      "['12', '18']\n",
      "['5', '8']\n"
     ]
    }
   ],
   "source": [
    "rucksack1 = \"Rucksack. Lea ther and polyester.Dimensions: 18'' tall x 12'' wide x 5'' deep. Brown or black.\"\n",
    "rucksack2 = \"Classic Leather Backpack for Man. Dim: height 17'' & width 18'' & depth 8''.\"\n",
    "rucksack1_s = rucksack1.split()\n",
    "rucksack2_s = rucksack2.split()\n",
    "\n",
    "\n",
    "rucksack1_h = rucksack1_s[5]\n",
    "rucksack1_w = rucksack1_s[8]\n",
    "rucksack1_d = rucksack1_s[11]\n",
    "\n",
    "rucksack2_h = rucksack2_s[7]\n",
    "rucksack2_w = rucksack2_s[10]\n",
    "rucksack2_d = rucksack2_s[13]\n",
    "\n",
    "rucksack1_hf = rucksack1_h.replace(\"'\", \"\")\n",
    "rucksack1_wf = rucksack1_w.replace(\"'\", \"\")\n",
    "rucksack1_df = rucksack1_d.replace(\"'\", \"\")\n",
    "\n",
    "rucksack2_hf = rucksack2_h.replace(\"'\", \"\")\n",
    "rucksack2_wf = rucksack2_w.replace(\"'\", \"\")\n",
    "rucksack2_df = rucksack2_d.replace(\"'\",  \"\")\n",
    "rucksack2_dff = rucksack2_df.replace(\".\", \"\")\n",
    "\n",
    "\n",
    "\n",
    "\n",
    "\n",
    "\n",
    "rucksack_height = [rucksack1_hf, rucksack2_hf]\n",
    "rucksack_width = [rucksack1_wf, rucksack2_wf] \n",
    "rucksack_depth = [rucksack1_df, rucksack2_dff]\n",
    "\n",
    "print(rucksack_height)\n",
    "print(rucksack_width)\n",
    "print(rucksack_depth)\n",
    "\n",
    "\n",
    "\n",
    "\n"
   ]
  },
  {
   "cell_type": "code",
   "execution_count": null,
   "id": "236cac64-1c22-4d81-a284-741c6e70254a",
   "metadata": {},
   "outputs": [],
   "source": []
  }
 ],
 "metadata": {
  "kernelspec": {
   "display_name": "Python 3 (ipykernel)",
   "language": "python",
   "name": "python3"
  },
  "language_info": {
   "codemirror_mode": {
    "name": "ipython",
    "version": 3
   },
   "file_extension": ".py",
   "mimetype": "text/x-python",
   "name": "python",
   "nbconvert_exporter": "python",
   "pygments_lexer": "ipython3",
   "version": "3.12.7"
  }
 },
 "nbformat": 4,
 "nbformat_minor": 5
}
