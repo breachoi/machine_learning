{
 "cells": [
  {
   "cell_type": "code",
   "execution_count": 21,
   "id": "11d12f8c-bf37-436e-a7b5-991b997e411a",
   "metadata": {},
   "outputs": [],
   "source": [
    "#necessary library\n",
    "import numpy as np\n",
    "import statsmodels.api as sm\n",
    "from ISLP import load_data\n",
    "from ISLP.models import ModelSpec as MS, summarize, poly\n",
    "from sklearn.model_selection import train_test_split\n",
    "\n",
    "from functools import partial\n",
    "from sklearn.model_selection import \\\n",
    "     (cross_validate,\n",
    "      KFold,\n",
    "      ShuffleSplit)\n",
    "from sklearn.base import clone\n",
    "from ISLP.models import sklearn_sm"
   ]
  },
  {
   "cell_type": "code",
   "execution_count": 28,
   "id": "314a88ad-19ac-410a-a0c1-581339d85958",
   "metadata": {},
   "outputs": [],
   "source": [
    "#Load the data from ISLP package \n",
    "Portfolio = load_data('Portfolio')\n",
    "\n",
    "#Make a function that inputs the dataframe D assumed to have cols x and y, as well as a vector\n",
    "#idx indicating which observations should be used to estimate alpha \n",
    "#This function returns an estimate for alpha based on applying the min variance formula to the observations\n",
    "#indexed by the argument idx.\n",
    "def alpha_func(D, idx):\n",
    "    cov_ = np.cov(D[['X','Y']].loc[idx], rowvar=False)\n",
    "    return ((cov_[1,1] - cov_[0,1]) /\n",
    "    (cov_[0,0]+cov_[1,1]-2*cov_[0,1]))\n"
   ]
  },
  {
   "cell_type": "code",
   "execution_count": 30,
   "id": "405ebef0-a934-44a0-a4b7-131c06a12889",
   "metadata": {},
   "outputs": [
    {
     "name": "stdout",
     "output_type": "stream",
     "text": [
      "           X         Y\n",
      "0  -0.895251 -0.234924\n",
      "1  -1.562454 -0.885176\n",
      "2  -0.417090  0.271888\n",
      "3   1.044356 -0.734198\n",
      "4  -0.315568  0.841983\n",
      "..       ...       ...\n",
      "95  0.479091  1.454774\n",
      "96 -0.535020 -0.399175\n",
      "97 -0.773129 -0.957175\n",
      "98  0.403634  1.396038\n",
      "99 -0.588496 -0.497285\n",
      "\n",
      "[100 rows x 2 columns]\n"
     ]
    }
   ],
   "source": [
    "print(Portfolio)"
   ]
  },
  {
   "cell_type": "code",
   "execution_count": 23,
   "id": "aed1b0af-c09a-4229-a90a-df4a587785c1",
   "metadata": {},
   "outputs": [
    {
     "data": {
      "text/plain": [
       "0.57583207459283"
      ]
     },
     "execution_count": 23,
     "metadata": {},
     "output_type": "execute_result"
    }
   ],
   "source": [
    "#alpha using all 100 observations.\n",
    "alpha_func(Portfolio, range(100))"
   ]
  },
  {
   "cell_type": "code",
   "execution_count": 24,
   "id": "21703638-2be7-45b4-9900-2a54cf71be5c",
   "metadata": {},
   "outputs": [
    {
     "data": {
      "text/plain": [
       "0.6074452469619004"
      ]
     },
     "execution_count": 24,
     "metadata": {},
     "output_type": "execute_result"
    }
   ],
   "source": [
    "#randomly select 100 observations from range(100), with replacement.\n",
    "rng = np.random.default_rng(0)\n",
    "alpha_func(Portfolio,\n",
    "rng.choice(100,100,replace=True))"
   ]
  },
  {
   "cell_type": "code",
   "execution_count": 25,
   "id": "c02fbcb7-7a79-4058-9422-134263267178",
   "metadata": {},
   "outputs": [],
   "source": [
    "#Generalized to create boot_se function for bootstrap standard error for arbitrary function\n",
    "#that takes only a data frame as an argument\n",
    "#This is often used if the value of the counter is unimportant and simply makes sure the loop is executed B times.\n",
    "def boot_SE(func,D, n=None, B=1000, seed=0):\n",
    "    rng = np.random.default_rng(seed)\n",
    "    first_, second_ = 0, 0\n",
    "    n = n or D.shape[0]\n",
    "    for _ in range(B):\n",
    "        idx = rng.choice(len(D), len(D), replace=True)\n",
    "        value = func(D, idx)\n",
    "        first_ += value\n",
    "        second_ += value**2\n",
    "    return np.sqrt(second_ / B - (first_ / B)**2)\n"
   ]
  },
  {
   "cell_type": "code",
   "execution_count": 26,
   "id": "8235b0fc-3023-49aa-a9fc-ae10910df2a8",
   "metadata": {},
   "outputs": [
    {
     "data": {
      "text/plain": [
       "0.09118176521277699"
      ]
     },
     "execution_count": 26,
     "metadata": {},
     "output_type": "execute_result"
    }
   ],
   "source": [
    "# B = 1000 times \n",
    "alpha_SE = boot_SE(alpha_func, Portfolio, B=1000, seed=0)\n",
    "alpha_SE"
   ]
  }
 ],
 "metadata": {
  "kernelspec": {
   "display_name": "Python 3 (ipykernel)",
   "language": "python",
   "name": "python3"
  },
  "language_info": {
   "codemirror_mode": {
    "name": "ipython",
    "version": 3
   },
   "file_extension": ".py",
   "mimetype": "text/x-python",
   "name": "python",
   "nbconvert_exporter": "python",
   "pygments_lexer": "ipython3",
   "version": "3.12.7"
  }
 },
 "nbformat": 4,
 "nbformat_minor": 5
}
