{
 "cells": [
  {
   "cell_type": "markdown",
   "id": "7914a7ab-9ba3-4e1b-97b0-5c522e9f3bf3",
   "metadata": {},
   "source": [
    "# Practice"
   ]
  },
  {
   "cell_type": "markdown",
   "id": "36f665fb-73ca-4179-b88a-d4dac6c93311",
   "metadata": {},
   "source": [
    "We will use the wine quality data (https://archive.ics.uci.edu/ml/datasets/Wine+Quality). Only use np library for this practice."
   ]
  },
  {
   "cell_type": "code",
   "execution_count": null,
   "id": "77bfcf6e-a558-4714-8fbe-52910e46d6ba",
   "metadata": {},
   "outputs": [],
   "source": [
    "import numpy as np"
   ]
  },
  {
   "cell_type": "code",
   "execution_count": null,
   "id": "d4a653b3-ae12-46f0-b8e7-567162f8ef11",
   "metadata": {},
   "outputs": [],
   "source": [
    "wines_red = np.genfromtxt(\"winequality-red.csv\", delimiter=\";\", skip_header=1) # import dataset"
   ]
  },
  {
   "cell_type": "markdown",
   "id": "09ef1986-6528-41c2-9937-e46d8296fe70",
   "metadata": {},
   "source": [
    "1. Check the size of the red wine quality dataset"
   ]
  },
  {
   "cell_type": "code",
   "execution_count": null,
   "id": "5f76ba7e-1fc9-4301-aa15-cae277737758",
   "metadata": {},
   "outputs": [],
   "source": []
  },
  {
   "cell_type": "markdown",
   "id": "a7c0fbcb-bea7-4f99-aa27-aa615ea42a1b",
   "metadata": {},
   "source": [
    "2. Write a function to return np array of five number summaries (minimum, maximum, median, Q1, and Q3) of all columns for a given np array (input: np array to compute five number summaries, output: np array of five number summaries). Using this function, find the five number summary of the red wine quality dataset."
   ]
  },
  {
   "cell_type": "code",
   "execution_count": null,
   "id": "e13db5e4-48d0-4b5c-aae9-81d99c4f45ea",
   "metadata": {},
   "outputs": [],
   "source": []
  },
  {
   "cell_type": "markdown",
   "id": "7bb7f7b6-b2c3-445e-9980-0d19a47803bb",
   "metadata": {},
   "source": [
    "3. Write a function to return five number summary (minimum, maximum, median, Q1, and Q3) of a specific column for a given np array (input: 1) np array to compute five number summaries and 2) column number, output: five number summary of a specific column). Using this function, find the five number summary of the second column of the red wine quality dataset."
   ]
  },
  {
   "cell_type": "code",
   "execution_count": null,
   "id": "df12ae8d-a116-404e-8e86-8cb754983be5",
   "metadata": {},
   "outputs": [],
   "source": []
  },
  {
   "cell_type": "markdown",
   "id": "bb1771e0-aaf6-4a33-a59a-3fe5ed74aa19",
   "metadata": {},
   "source": [
    "4. From the function in Q3, add the feature to print warning messages when the incorrect inputs (e.g., incorrect data type or incorrect column number) are given. Think about the possible error cases and return warning messages accordingly. Test the function with different error cases."
   ]
  },
  {
   "cell_type": "code",
   "execution_count": null,
   "id": "3428a09a-0235-4109-8a6a-7788e7dde390",
   "metadata": {},
   "outputs": [],
   "source": []
  },
  {
   "cell_type": "markdown",
   "id": "e6b24299-b918-49f9-bdce-8bfd9ee6d318",
   "metadata": {},
   "source": [
    "5. Load the winequality-white.csv and combine two datasets and save it as winequality"
   ]
  },
  {
   "cell_type": "markdown",
   "id": "bf745654-1a6a-4ffb-b982-2ca5297b7ce7",
   "metadata": {},
   "source": []
  }
 ],
 "metadata": {
  "kernelspec": {
   "display_name": "Python 3 (ipykernel)",
   "language": "python",
   "name": "python3"
  },
  "language_info": {
   "codemirror_mode": {
    "name": "ipython",
    "version": 3
   },
   "file_extension": ".py",
   "mimetype": "text/x-python",
   "name": "python",
   "nbconvert_exporter": "python",
   "pygments_lexer": "ipython3",
   "version": "3.8.16"
  }
 },
 "nbformat": 4,
 "nbformat_minor": 5
}
